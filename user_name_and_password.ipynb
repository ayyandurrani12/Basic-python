{
  "nbformat": 4,
  "nbformat_minor": 0,
  "metadata": {
    "colab": {
      "provenance": [],
      "authorship_tag": "ABX9TyNiI9vKcHQUQ3q1Tb/VFpLP",
      "include_colab_link": true
    },
    "kernelspec": {
      "name": "python3",
      "display_name": "Python 3"
    },
    "language_info": {
      "name": "python"
    }
  },
  "cells": [
    {
      "cell_type": "markdown",
      "metadata": {
        "id": "view-in-github",
        "colab_type": "text"
      },
      "source": [
        "<a href=\"https://colab.research.google.com/github/ayyandurrani12/Basic-python/blob/main/user_name_and_password.ipynb\" target=\"_parent\"><img src=\"https://colab.research.google.com/assets/colab-badge.svg\" alt=\"Open In Colab\"/></a>"
      ]
    },
    {
      "cell_type": "code",
      "execution_count": 10,
      "metadata": {
        "colab": {
          "base_uri": "https://localhost:8080/"
        },
        "id": "CuFV6PklPu7A",
        "outputId": "0d407ddc-df5c-4f14-8a4a-03763fd7b294"
      },
      "outputs": [
        {
          "output_type": "stream",
          "name": "stdout",
          "text": [
            "Hi ayyan durrani\n"
          ]
        }
      ],
      "source": [
        "username = \"ayyan durrani\"\n",
        "password = \"225599\"\n",
        "if username == \"ayyan durrani\":\n",
        "   if password == \"225599\":\n",
        "      print(\"Hi ayyan durrani\")\n",
        "   else:\n",
        "     print(\"incorrect possword\")\n",
        "else:\n",
        "  print(\"user not found\")"
      ]
    }
  ]
}